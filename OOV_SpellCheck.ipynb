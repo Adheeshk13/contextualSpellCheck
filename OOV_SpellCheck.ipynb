{
 "cells": [
  {
   "cell_type": "code",
   "execution_count": 1,
   "metadata": {},
   "outputs": [],
   "source": [
    "import spacy\n",
    "import torch\n",
    "import editdistance\n",
    "\n",
    "from spacy.tokens import Token\n",
    "from spacy.vocab import Vocab\n",
    "\n",
    "from transformers import AutoModelWithLMHead, AutoTokenizer\n",
    "from transformers import AutoModelWithLMHead, AutoTokenizer\n",
    "\n"
   ]
  },
  {
   "cell_type": "markdown",
   "metadata": {},
   "source": [
    "## Identifying OOV"
   ]
  },
  {
   "cell_type": "code",
   "execution_count": 2,
   "metadata": {},
   "outputs": [],
   "source": [
    "class oovChecker():\n",
    "    \n",
    "    def __init__(self):\n",
    "        self.nlp = spacy.load(\"en_core_web_sm\", disable=[\"tagger\", \"parser\"]) # using default tokeniser with NER\n",
    "        with open('./uncased_L-4_H-512_A-8/vocab.txt') as f:\n",
    "            # if want to remove '[unusedXX]' from vocab\n",
    "            # words = [line.rstrip() for line in f if not line.startswith('[unused')]\n",
    "            words = [line.rstrip() for line in f]\n",
    "        self.vocab = Vocab(strings=words)\n",
    "        self.BertTokenizer = AutoTokenizer.from_pretrained(\"bert-base-cased\")\n",
    "        self.BertModel = AutoModelWithLMHead.from_pretrained(\"bert-base-cased\")\n",
    "        self.mask = self.BertTokenizer.mask_token\n",
    "            \n",
    "        # This is temp\n",
    "        self.query = \"this is my India. My name is Rajat Goel. I use tru. income was $9.4 million compared to the prior year of $2.7 milion. number is 62722.2\"\n",
    "        self.debug = False\n",
    "        \n",
    "  \n",
    "    ## query --> \"aa bb cc...\"\n",
    "    def misspellIdentify(self, query=''):\n",
    "        \"\"\"\n",
    "        At present, All the following criteria should be met for word to be misspelled\n",
    "        1. Should not in our vocab\n",
    "        2. should not be a Person\n",
    "        3. Should not be a number\n",
    "        \n",
    "        @params query: sequence on which to perform \n",
    "        @return Dictonary: {'misspell-1':['candidate-1','candidate-2', ...],\n",
    "                            'misspell-2':['candidate-1','candidate-2'. ...]}\n",
    "        \"\"\"\n",
    "        if query == '':\n",
    "            query = self.query\n",
    "            \n",
    "        doc = self.nlp(query)\n",
    "        misspell = []\n",
    "        for token in doc:\n",
    "            if((token.text.lower() not in self.vocab) and \n",
    "               (token.ent_type_ != 'PERSON') and \n",
    "               (not token.like_num)):\n",
    "                \n",
    "                misspell.append(token)\n",
    "        \n",
    "        print(misspell)\n",
    "        return misspell\n",
    "    \n",
    "    def candidateGenerator(self, misspellings, query='',debug=False):\n",
    "        response = {}\n",
    "            \n",
    "        for token in misspellings:\n",
    "            if query == '':\n",
    "                updatedQuery = self.query\n",
    "            updatedQuery = updatedQuery.replace(token.text, self.mask)\n",
    "            if debug: print(updatedQuery)\n",
    "\n",
    "            model_input = self.BertTokenizer.encode(updatedQuery, return_tensors=\"pt\")\n",
    "            mask_token_index = torch.where(model_input == self.BertTokenizer.mask_token_id)[1]\n",
    "            token_logits = self.BertModel(model_input)[0]\n",
    "            mask_token_logits = token_logits[0, mask_token_index, :]\n",
    "\n",
    "            top_5_tokens = torch.topk(mask_token_logits, 5, dim=1).indices[0].tolist()  \n",
    "            \n",
    "            if token not in response:\n",
    "                response[token.i] = []\n",
    "                \n",
    "            for candidate in top_5_tokens:\n",
    "                response[token.i].append(self.BertTokenizer.decode([candidate]))\n",
    "                # print(updatedQuery.replace(self.mask, self.BertTokenizer.decode([candidate])))\n",
    "            \n",
    "            if debug: print(response)\n",
    "                \n",
    "\n",
    "        return response\n",
    "    \n",
    "    def candidateRanking(self, misspellingsDict, query='', debug=False):\n",
    "        if query == '':\n",
    "                query = self.query\n",
    "                \n",
    "        response={}\n",
    "        doc = self.nlp(query)\n",
    "        for misspell in misspellingsDict:\n",
    "            ## Init least_edit distance\n",
    "            least_edit_dist = 100\n",
    "            \n",
    "            if debug: print('misspellingsDict[misspell]', misspellingsDict[misspell])\n",
    "            for candidate in misspellingsDict[misspell]:\n",
    "                edit_dist = editdistance.eval(doc[misspell].text,candidate)\n",
    "                if edit_dist < least_edit_dist:\n",
    "                    least_edit_dist = edit_dist\n",
    "                    response[misspell] = candidate\n",
    "                    \n",
    "            if debug: print(response)\n",
    "        return response\n",
    "        \n",
    "        "
   ]
  },
  {
   "cell_type": "code",
   "execution_count": null,
   "metadata": {},
   "outputs": [],
   "source": []
  },
  {
   "cell_type": "code",
   "execution_count": 3,
   "metadata": {},
   "outputs": [
    {
     "name": "stdout",
     "output_type": "stream",
     "text": [
      "[tru, milion]\n",
      "misspellTokens [tru, milion]\n",
      "{13: 'you', 28: 'million'}\n"
     ]
    }
   ],
   "source": [
    "checker = oovChecker()\n",
    "misspellTokens = checker.misspellIdentify()\n",
    "print('misspellTokens',misspellTokens)\n",
    "candidate = checker.candidateGenerator(misspellTokens)\n",
    "answer = checker.candidateRanking(candidate)\n",
    "print(answer)\n"
   ]
  },
  {
   "cell_type": "code",
   "execution_count": null,
   "metadata": {},
   "outputs": [],
   "source": [
    "editdistance.distance('milion','billion')"
   ]
  },
  {
   "cell_type": "markdown",
   "metadata": {},
   "source": [
    "## OLD CODE\n",
    "***"
   ]
  }
 ],
 "metadata": {
  "kernelspec": {
   "display_name": "Python 3",
   "language": "python",
   "name": "python3"
  },
  "language_info": {
   "codemirror_mode": {
    "name": "ipython",
    "version": 3
   },
   "file_extension": ".py",
   "mimetype": "text/x-python",
   "name": "python",
   "nbconvert_exporter": "python",
   "pygments_lexer": "ipython3",
   "version": "3.7.7"
  }
 },
 "nbformat": 4,
 "nbformat_minor": 4
}
