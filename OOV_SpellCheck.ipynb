{
 "cells": [
  {
   "cell_type": "code",
   "execution_count": 1,
   "metadata": {},
   "outputs": [],
   "source": [
    "import spacy\n",
    "import torch\n",
    "import editdistance\n",
    "import datetime\n",
    "\n",
    "from spacy.tokens import Token\n",
    "from spacy.vocab import Vocab\n",
    "\n",
    "from transformers import AutoModelWithLMHead, AutoTokenizer"
   ]
  },
  {
   "cell_type": "markdown",
   "metadata": {},
   "source": [
    "## Identifying OOV"
   ]
  },
  {
   "cell_type": "code",
   "execution_count": 2,
   "metadata": {},
   "outputs": [],
   "source": [
    "class oovChecker():\n",
    "    \n",
    "    def __init__(self,debug=False):\n",
    "        self.nlp = spacy.load(\"en_core_web_sm\", disable=[\"tagger\", \"parser\"]) # using default tokeniser with NER\n",
    "        with open('./uncased_L-4_H-512_A-8/vocab.txt') as f:\n",
    "            # if want to remove '[unusedXX]' from vocab\n",
    "            # words = [line.rstrip() for line in f if not line.startswith('[unused')]\n",
    "            words = [line.rstrip() for line in f]\n",
    "        self.vocab = Vocab(strings=words)\n",
    "        self.BertTokenizer = AutoTokenizer.from_pretrained(\"bert-base-cased\")\n",
    "        self.BertModel = AutoModelWithLMHead.from_pretrained(\"bert-base-cased\")\n",
    "        self.mask = self.BertTokenizer.mask_token            \n",
    "        self.debug = debug\n",
    "        \n",
    "    def check(self, query=''):\n",
    "        if type(query) != str and len(query)==0:\n",
    "            print('Invalid query, expected non empty `str` but passed',query)\n",
    "            \n",
    "        misspellTokens, doc = self.misspellIdentify(query)\n",
    "        if len(misspellTokens)>0:\n",
    "            candidate = self.candidateGenerator(misspellTokens,query=query) \n",
    "            answer = self.candidateRanking(candidate)\n",
    "            updatedQuery = ''\n",
    "            for i in doc:\n",
    "                if i in misspellTokens:\n",
    "                    updatedQuery += answer[i] + \" \"\n",
    "                else:\n",
    "                    updatedQuery += i.text + \" \"\n",
    "                \n",
    "            print('Did you mean: ',updatedQuery)\n",
    "            print('Original text:', query)\n",
    "\n",
    "        \n",
    "  \n",
    "    ## query --> \"aa bb cc...\"\n",
    "    def misspellIdentify(self, query=''):\n",
    "        \"\"\"\n",
    "        At present, All the following criteria should be met for word to be misspelled\n",
    "        1. Should not in our vocab\n",
    "        2. should not be a Person\n",
    "        3. Should not be a number\n",
    "        \n",
    "        @params query: sequence on which to perform \n",
    "        @return Dictonary: {'misspell-1':['candidate-1','candidate-2', ...],\n",
    "                            'misspell-2':['candidate-1','candidate-2'. ...]}\n",
    "        \"\"\"            \n",
    "        doc = self.nlp(query)\n",
    "        misspell = []\n",
    "        for token in doc:\n",
    "            if((token.text.lower() not in self.vocab) and \n",
    "               (token.ent_type_ != 'PERSON') and \n",
    "               (not token.like_num)):\n",
    "                \n",
    "                misspell.append(token)\n",
    "        \n",
    "        if self.debug: print(misspell)\n",
    "        return (misspell, doc)\n",
    "    \n",
    "    def candidateGenerator(self, misspellings, top_n=5 ,query=''):\n",
    "        \"\"\"\n",
    "        This function is responsible for generating candidate list for misspell\n",
    "        using BERT. The misspell is masked with a token and the model tries to \n",
    "        predict `n` candidates for the mask.\n",
    "        \n",
    "        \n",
    "        \"\"\"\n",
    "        response = {}\n",
    "            \n",
    "        for token in misspellings:\n",
    "            updatedQuery = query\n",
    "            updatedQuery = updatedQuery.replace(token.text, self.mask)\n",
    "            if self.debug: print(\"For\",'`'+token.text+'`',\"updated query is:\\n\",updatedQuery)\n",
    "\n",
    "            model_input = self.BertTokenizer.encode(updatedQuery, return_tensors=\"pt\")\n",
    "            mask_token_index = torch.where(model_input == self.BertTokenizer.mask_token_id)[1]\n",
    "            token_logits = self.BertModel(model_input)[0]\n",
    "            mask_token_logits = token_logits[0, mask_token_index, :]\n",
    "\n",
    "            top_n_tokens = torch.topk(mask_token_logits, 5, dim=1).indices[0].tolist()  \n",
    "            if self.debug: print('top_n_tokens:',top_n_tokens)\n",
    "            \n",
    "            if token not in response:\n",
    "                response[token] = [self.BertTokenizer.decode([candidateWord]) for candidateWord in top_n_tokens]\n",
    "                \n",
    "            # for candidate in top_5_tokens:\n",
    "                # response[token].append(self.BertTokenizer.decode([candidate]))\n",
    "                # print(updatedQuery.replace(self.mask, self.BertTokenizer.decode([candidate])))\n",
    "            \n",
    "            if self.debug: print(response)\n",
    "                \n",
    "\n",
    "        return response\n",
    "    \n",
    "    def candidateRanking(self, misspellingsDict):\n",
    "                \n",
    "        response={}\n",
    "#         doc = self.nlp(query)\n",
    "        for misspell in misspellingsDict:\n",
    "            ## Init least_edit distance\n",
    "            least_edit_dist = 100\n",
    "            \n",
    "            if self.debug: print('misspellingsDict[misspell]', misspellingsDict[misspell])\n",
    "            for candidate in misspellingsDict[misspell]:\n",
    "                edit_dist = editdistance.eval(misspell.text,candidate)\n",
    "                if edit_dist < least_edit_dist:\n",
    "                    least_edit_dist = edit_dist\n",
    "                    response[misspell] = candidate\n",
    "                    \n",
    "            if self.debug: print(response)\n",
    "        return response\n",
    "        \n",
    "        "
   ]
  },
  {
   "cell_type": "code",
   "execution_count": 3,
   "metadata": {},
   "outputs": [],
   "source": [
    "def timeLog(fnName, relativeTime):\n",
    "    timeNow = datetime.datetime.now()\n",
    "    print(fnName, \"took: \",timeNow - relativeTime)\n",
    "    return datetime.datetime.now()"
   ]
  },
  {
   "cell_type": "code",
   "execution_count": 8,
   "metadata": {},
   "outputs": [
    {
     "name": "stdout",
     "output_type": "stream",
     "text": [
      "Model Loading took:  0:00:09.855027\n",
      "Did you mean:  Income was $ 9.4 million compared to the prior year of $ 2.7 million . \n",
      "Original text: Income was $9.4 million compared to the prior year of $2.7 milion.\n",
      "Sentence Correction took:  0:00:00.162353\n"
     ]
    }
   ],
   "source": [
    "start=datetime.datetime.now()\n",
    "checker = oovChecker()\n",
    "modelLoadTime = timeLog(\"Model Loading\",start)\n",
    "\n",
    "query = \"Income was $9.4 million compared to the prior year of $2.7 milion.\"\n",
    "\n",
    "checker.check(query)\n",
    "checkerTime = timeLog('Sentence Correction', modelLoadTime)\n",
    "\n",
    "\n",
    "# misspellTokens = checker.misspellIdentify()\n",
    "# misspellTime = timeLog(\"Misspell indetifying\", modelLoadTime)\n",
    "\n",
    "# candidate = checker.candidateGenerator(misspellTokens)\n",
    "# candidateTime = timeLog(\"CandidateGeneration\",misspellTime)\n",
    "\n",
    "# answer = checker.candidateRanking(candidate)\n",
    "# timeLog(\"ranking\",candidateTime)\n",
    "# for key in answer:\n",
    "#     print('wrong spelling: ','`'+key.text+'`',\"-- best candidate:\", '`'+answer[key]+'`')\n",
    "# print(answer)\n"
   ]
  },
  {
   "cell_type": "code",
   "execution_count": null,
   "metadata": {},
   "outputs": [],
   "source": []
  },
  {
   "cell_type": "code",
   "execution_count": null,
   "metadata": {},
   "outputs": [],
   "source": [
    "editdistance.distance('milion','billion')"
   ]
  },
  {
   "cell_type": "markdown",
   "metadata": {},
   "source": [
    "## OLD CODE\n",
    "***"
   ]
  }
 ],
 "metadata": {
  "kernelspec": {
   "display_name": "Python 3",
   "language": "python",
   "name": "python3"
  },
  "language_info": {
   "codemirror_mode": {
    "name": "ipython",
    "version": 3
   },
   "file_extension": ".py",
   "mimetype": "text/x-python",
   "name": "python",
   "nbconvert_exporter": "python",
   "pygments_lexer": "ipython3",
   "version": "3.7.7"
  }
 },
 "nbformat": 4,
 "nbformat_minor": 4
}
